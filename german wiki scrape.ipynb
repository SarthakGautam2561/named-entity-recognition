{
 "cells": [
  {
   "cell_type": "code",
   "execution_count": 5,
   "metadata": {},
   "outputs": [],
   "source": [
    "from bs4 import BeautifulSoup\n",
    "from tqdm import tqdm_notebook\n",
    "import time, requests"
   ]
  },
  {
   "cell_type": "code",
   "execution_count": 6,
   "metadata": {},
   "outputs": [],
   "source": [
    "def thirdrow(url, column = -2):\n",
    "    time.sleep(2)\n",
    "    r = requests.get(url)\n",
    "    soup = BeautifulSoup(r.content, \"lxml\")\n",
    "    \n",
    "    table_classes = {\"class\": [\"wikitable float-right\"]}\n",
    "\n",
    "    wikitables = soup.find(\"table\", table_classes)\n",
    "    l = []\n",
    "\n",
    "    for row in wikitables.findAll(\"tr\"):\n",
    "        cells = row.findAll(\"td\")\n",
    "        if len(cells) >= -column:\n",
    "            cell = cells[column]\n",
    "            if \"style\" in cell.attrs:\n",
    "                l.append(cell)\n",
    "    \n",
    "    res = [x.text.replace(\"\\n\", \"\") for x in l]\n",
    "    \n",
    "    return(res)"
   ]
  },
  {
   "cell_type": "code",
   "execution_count": 7,
   "metadata": {},
   "outputs": [
    {
     "data": {
      "application/vnd.jupyter.widget-view+json": {
       "model_id": "85a27bf41fe94c679adb56a25a013c46",
       "version_major": 2,
       "version_minor": 0
      },
      "text/html": [
       "<p>Failed to display Jupyter Widget of type <code>HBox</code>.</p>\n",
       "<p>\n",
       "  If you're reading this message in the Jupyter Notebook or JupyterLab Notebook, it may mean\n",
       "  that the widgets JavaScript is still loading. If this message persists, it\n",
       "  likely means that the widgets JavaScript library is either not installed or\n",
       "  not enabled. See the <a href=\"https://ipywidgets.readthedocs.io/en/stable/user_install.html\">Jupyter\n",
       "  Widgets Documentation</a> for setup instructions.\n",
       "</p>\n",
       "<p>\n",
       "  If you're reading this message in another frontend (for example, a static\n",
       "  rendering on GitHub or <a href=\"https://nbviewer.jupyter.org/\">NBViewer</a>),\n",
       "  it may mean that your frontend doesn't currently support widgets.\n",
       "</p>\n"
      ],
      "text/plain": [
       "HBox(children=(IntProgress(value=0, max=12), HTML(value='')))"
      ]
     },
     "metadata": {},
     "output_type": "display_data"
    },
    {
     "name": "stdout",
     "output_type": "stream",
     "text": [
      "\n"
     ]
    },
    {
     "data": {
      "application/vnd.jupyter.widget-view+json": {
       "model_id": "0db83c622bb24c0483d6ebd7b346673d",
       "version_major": 2,
       "version_minor": 0
      },
      "text/html": [
       "<p>Failed to display Jupyter Widget of type <code>HBox</code>.</p>\n",
       "<p>\n",
       "  If you're reading this message in the Jupyter Notebook or JupyterLab Notebook, it may mean\n",
       "  that the widgets JavaScript is still loading. If this message persists, it\n",
       "  likely means that the widgets JavaScript library is either not installed or\n",
       "  not enabled. See the <a href=\"https://ipywidgets.readthedocs.io/en/stable/user_install.html\">Jupyter\n",
       "  Widgets Documentation</a> for setup instructions.\n",
       "</p>\n",
       "<p>\n",
       "  If you're reading this message in another frontend (for example, a static\n",
       "  rendering on GitHub or <a href=\"https://nbviewer.jupyter.org/\">NBViewer</a>),\n",
       "  it may mean that your frontend doesn't currently support widgets.\n",
       "</p>\n"
      ],
      "text/plain": [
       "HBox(children=(IntProgress(value=0, max=12), HTML(value='')))"
      ]
     },
     "metadata": {},
     "output_type": "display_data"
    },
    {
     "name": "stdout",
     "output_type": "stream",
     "text": [
      "\n"
     ]
    }
   ],
   "source": [
    "urls = [\"https://de.wikipedia.org/wiki/Gelasium\",\n",
    "        \"https://de.wikipedia.org/wiki/Piacenzium\",\n",
    "        \"https://de.wikipedia.org/wiki/Chattium\",\n",
    "        \"https://de.wikipedia.org/wiki/Maastrichtium\",\n",
    "        \"https://de.wikipedia.org/wiki/Tithonium\",\n",
    "        \"https://de.wikipedia.org/wiki/Rhaetium\",\n",
    "        \"https://de.wikipedia.org/wiki/Changhsingium\",\n",
    "        \"https://de.wikipedia.org/wiki/Gzhelium\",\n",
    "        \"https://de.wikipedia.org/wiki/Famennium\",\n",
    "        \"https://de.wikipedia.org/wiki/Pridolium\",\n",
    "        \"https://de.wikipedia.org/wiki/Hirnantium\",\n",
    "        \"https://de.wikipedia.org/wiki/Paibium\"\n",
    "       ]\n",
    "\n",
    "stages0 = []\n",
    "for url in tqdm_notebook(urls):\n",
    "    stages0.append(thirdrow(url, column = -2))\n",
    "    \n",
    "    \n",
    "epochs0 = []\n",
    "for url in tqdm_notebook(urls):\n",
    "    epochs0.append(thirdrow(url, column = -3))"
   ]
  },
  {
   "cell_type": "code",
   "execution_count": 10,
   "metadata": {},
   "outputs": [],
   "source": [
    "bad = {\"höher\", \"tiefer\", \"\"}\n",
    "\n",
    "flatten = lambda l: [item for sublist in l for item in sublist]\n",
    "\n",
    "def clean(items):\n",
    "    res = []\n",
    "    for item in items:\n",
    "        if item:\n",
    "            if \"(\" not in item:\n",
    "                if \" Stufe\" not in item and \" Serie\" not in item:\n",
    "                    if item not in bad:\n",
    "                        res.append(item)\n",
    "    return(res)"
   ]
  },
  {
   "cell_type": "code",
   "execution_count": 32,
   "metadata": {},
   "outputs": [],
   "source": [
    "manual_stages = [\"Jungpleistozän\", \"Tarantium\",\n",
    "          \"Mittelpleistozän\", \"Ionium\", \n",
    "          \"Altpleistozän\",\"Calabrium\",\n",
    "                \"Viseum\", \"Badenien\"]\n",
    "\n",
    "#manual_periods = \n",
    "\n",
    "stages = clean(flatten(stages0)) + manual_stages\n",
    "epochs = clean(flatten(epochs0))\n",
    "periods = [\"Quartär\", \"Neogen\", \"Paläogen\",\n",
    "          \"Kreide\", \"Jura\", \"Trias\", \"Perm\",\n",
    "          \"Karbon\", \"Devon\", \"Silur\", \"Ordovizium\",\n",
    "          \"Kambrium\"]"
   ]
  },
  {
   "cell_type": "code",
   "execution_count": 33,
   "metadata": {},
   "outputs": [],
   "source": [
    "german_names = set(stages + epochs + periods)"
   ]
  },
  {
   "cell_type": "code",
   "execution_count": 48,
   "metadata": {},
   "outputs": [],
   "source": [
    "import datetime\n",
    "\n",
    "today = datetime.datetime.now().strftime(\"%m_%d_%Y\")"
   ]
  },
  {
   "cell_type": "code",
   "execution_count": null,
   "metadata": {},
   "outputs": [],
   "source": []
  },
  {
   "cell_type": "code",
   "execution_count": 49,
   "metadata": {},
   "outputs": [],
   "source": [
    "now = time.asctime().replace(\" \", \"_\").replace(\":\",\"\")\n",
    "\n",
    "with open(\"output/german_names_{}.txt\".format(today), \"w\") as f:\n",
    "    f.write('\\n'.join(german_names))"
   ]
  },
  {
   "cell_type": "code",
   "execution_count": 26,
   "metadata": {},
   "outputs": [
    {
     "name": "stdout",
     "output_type": "stream",
     "text": [
      " \u001b[0m\u001b[38;5;33mdata\u001b[0m/                       \u001b[38;5;33moutput\u001b[0m/          regexner_rules_backup.txt\r\n",
      "'german wiki scrape.ipynb'   regexner.ipynb\r\n"
     ]
    }
   ],
   "source": []
  },
  {
   "cell_type": "code",
   "execution_count": null,
   "metadata": {},
   "outputs": [],
   "source": []
  }
 ],
 "metadata": {
  "kernelspec": {
   "display_name": "Python 3",
   "language": "python",
   "name": "python3"
  },
  "language_info": {
   "codemirror_mode": {
    "name": "ipython",
    "version": 3
   },
   "file_extension": ".py",
   "mimetype": "text/x-python",
   "name": "python",
   "nbconvert_exporter": "python",
   "pygments_lexer": "ipython3",
   "version": "3.6.6"
  }
 },
 "nbformat": 4,
 "nbformat_minor": 2
}
