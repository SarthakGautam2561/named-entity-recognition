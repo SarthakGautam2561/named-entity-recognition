{
 "cells": [
  {
   "cell_type": "code",
   "execution_count": 155,
   "metadata": {},
   "outputs": [],
   "source": [
    "import pandas as pd\n",
    "import numpy as np\n",
    "from nltk.corpus import words\n",
    "\n",
    "import re, requests, collections"
   ]
  },
  {
   "cell_type": "code",
   "execution_count": null,
   "metadata": {},
   "outputs": [],
   "source": []
  },
  {
   "cell_type": "code",
   "execution_count": 156,
   "metadata": {},
   "outputs": [],
   "source": [
    "pbdb_stratigraphic_names = requests.get(\"https://paleobiodb.org/data1.2/occs/strata.json?datainfo&rowcount&interval=Phanerozoic\").json()\n",
    "\n",
    "l = []\n",
    "for x in pbdb_stratigraphic_names[\"records\"]:\n",
    "    if \"smb\" in x.keys():\n",
    "        l.append(x[\"smb\"])"
   ]
  },
  {
   "cell_type": "code",
   "execution_count": null,
   "metadata": {},
   "outputs": [],
   "source": [
    "\n",
    "        "
   ]
  },
  {
   "cell_type": "code",
   "execution_count": 157,
   "metadata": {},
   "outputs": [],
   "source": [
    "# This \"interval\" \"definition\" is terrible.\n",
    "#r = requests.get(\"https://macrostrat.org/api/defs/intervals?all\").json()\n",
    "#time_intervals = [x[\"name\"].replace(\"\\t\", \"\") for x in r[\"success\"][\"data\"]]\n",
    "r = requests.get(\"https://macrostrat.org/api/defs/strat_names?all\").json()\n",
    "#r = requests.get(\"https://macrostrat.org/api/defs/strat_names?rank=Fm\").json()"
   ]
  },
  {
   "cell_type": "code",
   "execution_count": 158,
   "metadata": {},
   "outputs": [
    {
     "data": {
      "text/plain": [
       "[('Formation', 13823),\n",
       " ('Member', 9616),\n",
       " ('Bed', 3411),\n",
       " ('Group', 2356),\n",
       " ('Granite', 1851),\n",
       " ('Limestone', 1661),\n",
       " ('Sandstone', 1426),\n",
       " ('Shale', 829),\n",
       " ('Granodiorite', 799),\n",
       " ('Volcanics', 682),\n",
       " ('Complex', 645),\n",
       " ('Suite', 629),\n",
       " ('Conglomerate', 484),\n",
       " ('Gneiss', 439),\n",
       " ('Basalt', 431),\n",
       " ('Dolomite', 348),\n",
       " ('Quartzite', 339),\n",
       " ('Rhyolite', 301),\n",
       " ('Tuff', 296),\n",
       " ('Subgroup', 255),\n",
       " ('Schist', 244),\n",
       " ('Sand', 208),\n",
       " ('Monzogranite', 199),\n",
       " ('Tonalite', 195),\n",
       " ('Diorite', 191),\n",
       " ('Till', 190),\n",
       " ('Gravel', 176),\n",
       " ('Tongue', 173),\n",
       " ('Siltstone', 159),\n",
       " ('Supersuite', 159),\n",
       " ('Andesite', 150),\n",
       " ('Beds', 149),\n",
       " ('Gabbro', 148),\n",
       " ('Mudstone', 139),\n",
       " ('Clay', 127),\n",
       " ('Monzonite', 126),\n",
       " ('Slate', 117),\n",
       " ('Breccia', 111),\n",
       " ('Metamorphics', 110),\n",
       " ('Drift', 95),\n",
       " ('Supergroup', 93),\n",
       " ('Ignimbrite', 86),\n",
       " ('Measures', 81),\n",
       " ('Volcanic', 80),\n",
       " ('Dolerite', 75),\n",
       " ('Lentil', 65),\n",
       " ('Dacite', 64),\n",
       " ('Chert', 62),\n",
       " ('Dolostone', 60),\n",
       " ('Latite', 60),\n",
       " ('Phyllite', 59),\n",
       " ('Silt', 54),\n",
       " ('Marl', 49),\n",
       " ('Syenite', 46),\n",
       " ('Chalk', 43),\n",
       " ('Marble', 40),\n",
       " ('Amphibolite', 38),\n",
       " ('Greenstone', 37),\n",
       " ('Orthogneiss', 31),\n",
       " ('Grit', 31),\n",
       " ('Tillite', 29),\n",
       " ('Leucogranite', 29),\n",
       " ('Trachyte', 27),\n",
       " ('Coal', 23),\n",
       " ('Argillite', 23),\n",
       " ('Arkose', 23),\n",
       " ('Greensand', 22),\n",
       " ('Serpentinite', 21),\n",
       " ('Agglomerate', 19),\n",
       " ('Pelite', 19),\n",
       " ('Rhyodacite', 19),\n",
       " ('Greywacke', 18),\n",
       " ('Claystone', 16),\n",
       " ('Lens', 15),\n",
       " ('Subsuite', 14),\n",
       " ('Ash', 14),\n",
       " ('Oolite', 14),\n",
       " ('Anhydrite', 14),\n",
       " ('Alluvium', 14),\n",
       " ('Graywacke', 13),\n",
       " ('Diabase', 13),\n",
       " ('Trondhjemite', 13),\n",
       " ('Metagabbro', 12),\n",
       " ('Anorthosite', 11),\n",
       " ('Granulite', 11),\n",
       " ('Metabasalt', 11),\n",
       " ('Norite', 10),\n",
       " ('Evaporite', 9),\n",
       " ('Gypsum', 9),\n",
       " ('Syenogranite', 9),\n",
       " ('Migmatite', 9),\n",
       " ('Ironstone', 8),\n",
       " ('Charnockite', 8),\n",
       " ('Loess', 8),\n",
       " ('Peat', 8),\n",
       " ('Felsite', 8),\n",
       " ('Coquina', 8),\n",
       " ('basalt', 8),\n",
       " ('Series', 8),\n",
       " ('Pegmatite', 8),\n",
       " ('Peridotite', 7),\n",
       " ('Halite', 6),\n",
       " ('Paragneiss', 6),\n",
       " ('Arenite', 6),\n",
       " ('Melange', 6),\n",
       " ('Aplite', 5),\n",
       " ('Diatomite', 5),\n",
       " ('Komatiite', 5),\n",
       " ('Phonolite', 4),\n",
       " ('Paleosol', 4),\n",
       " ('Soil', 4),\n",
       " ('Pyroxenite', 3),\n",
       " ('Lamprophyre', 3),\n",
       " ('Metaconglomerate', 3),\n",
       " ('Greenschist', 3),\n",
       " ('Intrusives', 3),\n",
       " ('Mylonite', 3),\n",
       " ('Carbonatite', 3),\n",
       " ('Kimberlite', 3),\n",
       " ('Novaculite', 2),\n",
       " ('Lignite', 2),\n",
       " ('Diamictite', 2),\n",
       " ('breccia', 2),\n",
       " ('Carbonate', 2),\n",
       " ('Pumice', 2),\n",
       " ('Laterite', 2),\n",
       " ('Hornfels', 2),\n",
       " ('Volcaniclastic', 2),\n",
       " ('Glass', 2),\n",
       " ('Harzburgite', 2),\n",
       " ('Division', 2),\n",
       " ('sand', 1),\n",
       " ('Micrite', 1),\n",
       " ('Ankaramite', 1),\n",
       " ('drift', 1),\n",
       " ('Travertine', 1),\n",
       " ('Wehrlite', 1),\n",
       " ('Colluvium', 1),\n",
       " ('Scoria', 1),\n",
       " ('Trachyandesite', 1),\n",
       " ('Bauxite', 1),\n",
       " ('Troctolite', 1),\n",
       " ('Sequence', 1)]"
      ]
     },
     "execution_count": 158,
     "metadata": {},
     "output_type": "execute_result"
    }
   ],
   "source": [
    "strat_names = [x[\"strat_name_long\"] for x in r[\"success\"][\"data\"]]\n",
    "#print(len(r[\"success\"][\"data\"]))\n",
    "collections.Counter([x.split(\" \")[-1] for x in strat_names]).most_common()"
   ]
  },
  {
   "cell_type": "code",
   "execution_count": 160,
   "metadata": {},
   "outputs": [],
   "source": [
    "with open(\"data/species_names_bryozoa.txt\", \"r\") as myfile:\n",
    "\ttaxa = myfile.read().split(\"\\n\")\n",
    "\n",
    "taxa2 = pd.read_csv(\"data/CoL_bryozoa.csv\")\n",
    "taxa2 = [' '.join(x.split('  ')[0:2]) for x in list(taxa2[\"Scientific name\"])]\n",
    "taxa3 = taxa + taxa2\n",
    "\n",
    "## Problem: some species are written in a bad format, e.g.\n",
    "## \n",
    "## Chaperiopsis (Clipeochaperia) frontalis\n",
    "##\n",
    "# ambiguous = [x for x in taxa3 if \"(\" in x]"
   ]
  },
  {
   "cell_type": "code",
   "execution_count": 161,
   "metadata": {},
   "outputs": [
    {
     "data": {
      "text/plain": [
       "['Fenestella strata']"
      ]
     },
     "execution_count": 161,
     "metadata": {},
     "output_type": "execute_result"
    }
   ],
   "source": [
    "philbock_taxa = pd.read_csv(\"data/philbock_species.csv\", sep = \"\\t\", dtype=str)\n",
    "\n",
    "taxa = [x.capitalize() for x in philbock_taxa.Name.dropna()]\n",
    "taxa = [x for x in taxa if \"subsequent\" not in x]\n",
    "\n",
    "def is_ascii(s):\n",
    "    return all(ord(c) < 128 for c in s)\n",
    "\n",
    "#[x for x in philbocktaxa2 if \")\" in x]\n",
    "#[x for x in philbocktaxa2 if \"?\" in x]\n",
    "#[x for x in philbocktaxa2 if not is_ascii(x)]\n",
    "#[x for x in philbocktaxa2 if len(x.split(' ')) > 2][2000:]\n",
    "#[x.replace(\" [sic]\", \"\") for x in taxa]\n",
    "#[x for x in taxa if \"bouei minute\" in x]\n",
    "\n",
    "#re.search(\"No subsequent\", taxa)\n",
    "[x for x in taxa if \" strata\" in x]\n"
   ]
  },
  {
   "cell_type": "code",
   "execution_count": 162,
   "metadata": {},
   "outputs": [],
   "source": [
    "def cleanup(genera):\n",
    "    \"\"\"\n",
    "    Function to remove any of the matches in \"flags2\" from the string input\n",
    "    \"\"\"\n",
    "    flags2 = {\"(?)\", \"*\", \" [sic]\", \"?\", \" cf.\", \" n. sp.\", \" 1\", \n",
    "              \" l.\", \" s.\", \" j.\", \n",
    "              \" sp.\", \" aff.\", \" ex gr.\", \" [1938]\", \n",
    "              \"\\xa0\", \"\\t\", \" [sic, read costulatus]\", \" [diastopora]\", '&', \n",
    "              ' f.', ' l.', ' c.', ' s.',' ex.', 'a.', 'b.', 'grp.',\n",
    "              ' genus', ' indet.', ' egenus'}\n",
    "    rep = {x: \"\" for x in flags2}\n",
    "    rep = dict((re.escape(k), v) for k, v in rep.items())\n",
    "\n",
    "    pattern = re.compile(\"|\".join(rep.keys()))\n",
    "    res = map(lambda genus: pattern.sub(lambda m: rep[re.escape(m.group(0))], genus), (x for x in genera if len(x) > 1))\n",
    "    return(res)\n",
    "\n",
    "philbocktaxa = []\n",
    "\n",
    "taxa = cleanup(taxa)\n",
    "\n",
    "for taxon in taxa:\n",
    "    if \"sp.\" in taxon:\n",
    "        taxon = taxon[:pat.search(taxon).end()]\n",
    "    \n",
    "    split_taxon = taxon.split()   \n",
    "    \n",
    "    pindices = [i for i, p in enumerate(taxon) if p in \"()\"]\n",
    "\n",
    "    if len(pindices) > 1:\n",
    "        if \" \" in taxon[pindices[0]:pindices[1]+1]:\n",
    "            taxon = taxon[:pindices[0]] + taxon[pindices[1]+2:]\n",
    "            \n",
    "            taxon = \" \".join(taxon.split()) ## Normalize spacing\n",
    "            philbocktaxa.append(taxon)\n",
    "            \n",
    "        else:\n",
    "            first = taxon.replace(taxon[pindices[0]:pindices[1]+2], \"\")\n",
    "            second = taxon[pindices[0]+1:].replace(\")\", \"\")\n",
    "        \n",
    "            philbocktaxa.append(first.capitalize())\n",
    "            philbocktaxa.append(second.capitalize())  \n",
    "        \n",
    "    \n",
    "    else:\n",
    "        taxon = \" \".join(taxon.split()) ## Normalize spacing\n",
    "        philbocktaxa.append(taxon)\n",
    "        \n",
    "def nonascii_fix(x):\n",
    "    x = x.replace(\"Macropora ﬁlifera\", \"Macropora filifera\")\n",
    "    x = x.replace(\"Ralﬁna originalis\", \"Ralfina originalis\")\n",
    "    x = x.replace(\"‘hastingsia’ whitteni\", \"hastingsia whitteni\")\n",
    "    return(x.replace(\"Biflustra’ lamellosa\", \"Biflustra lamellosa\"))\n",
    "\n",
    "philbocktaxa2 = [nonascii_fix(x).capitalize() for x in philbocktaxa]\n",
    "        \n",
    "\n",
    "philbocktaxa3 = []\n",
    "\n",
    "for x in philbocktaxa2:\n",
    "    philbocktaxa3.append(x)\n",
    "    \n",
    "    k = x.split()\n",
    "    if len(k) > 2:\n",
    "        philbocktaxa3.append(' '.join(k[0:2]))\n",
    "        \n",
    "\n",
    "taxa4 = set(x for x in set(taxa3 + philbocktaxa3) if x not in [\"Sic\", \"Delete\", \"Ignore\", \"More work\", \"Zzcomment\"])\n",
    "\n",
    "k = sorted([x.split()[-1] for x in taxa4 if \" \" in x], key = len)[0:1000]"
   ]
  },
  {
   "cell_type": "code",
   "execution_count": null,
   "metadata": {},
   "outputs": [],
   "source": []
  },
  {
   "cell_type": "code",
   "execution_count": 58,
   "metadata": {},
   "outputs": [],
   "source": [
    "## Dictionary for english (US) words\n",
    "#nltk.download(\"words\")\n",
    "import nltk\n",
    "\n",
    "english_words = set(words.words())"
   ]
  },
  {
   "cell_type": "code",
   "execution_count": 165,
   "metadata": {},
   "outputs": [
    {
     "name": "stdout",
     "output_type": "stream",
     "text": [
      "Number of genera: 3121\n",
      "{'Stenophragma', 'Mastigophora', 'Favosites', 'Oculina', 'Fungia', 'Isis', 'Monticulipora', 'Stromatopora', 'Paludicella', 'Paulina', 'Lepralia', 'Flustra', 'Hydractinia', 'Tubularia', 'Vesicularia', 'Membranipora', 'Fedora', 'Chaetetes', 'Heliolites', 'Plumatella', 'Cristatella', 'Emma', 'Lunularia', 'Sertularia', 'Lunulites', 'Millepora', 'Alveolites', 'Tubulipora', 'Tubipora', 'Orbitolites', 'Electra', 'Acropora', 'Fistularia', 'Avicularia', 'Retepora', 'Adeona', 'Cellepora', 'Dictyonema', 'Madrepora', 'Hydra', 'Corallina', 'Porella', 'Ulva', 'Campanularia', 'Archimedes', 'Lichenopora', 'Arachnoidea', 'Oncidium', 'Boreas', 'Crepis', 'Gargantua', 'Alcyonium', 'Chaetites', 'Diplotaxis', 'Gorgonia', 'Galeopsis', 'Salicornia'}\n"
     ]
    }
   ],
   "source": [
    "genera = {x.split(\" \")[0] for x in taxa4}\n",
    "print(\"Number of genera:\", len(genera))\n",
    "\n",
    "english_genera = {x for x in genera if x in english_words}\n",
    "\n",
    "print(english_genera)"
   ]
  },
  {
   "cell_type": "code",
   "execution_count": 166,
   "metadata": {},
   "outputs": [
    {
     "name": "stdout",
     "output_type": "stream",
     "text": [
      "Number of genera, minus english words: 3115\n"
     ]
    }
   ],
   "source": [
    "# Pick some of the above genera, remove them\n",
    "bad_genera = {\"Emma\", \"Hydra\", \"Isis\", \"Ulva\", \"Avicularia\", \"Boreas\"}\n",
    "\n",
    "genera_minus_english = genera.difference(bad_genera)\n",
    "print(\"Number of genera, minus english words:\", len(genera_minus_english))\n",
    "\n",
    "with open(\"data/genera.csv\", \"w\") as f:\n",
    "    f.write(\"\\n\".join(genera_minus_english))"
   ]
  },
  {
   "cell_type": "code",
   "execution_count": 167,
   "metadata": {},
   "outputs": [],
   "source": [
    "## If the epithet is in the english dictionary, add to set\n",
    "english_epithets = {x.split()[-1] for x in taxa4 if x.split()[-1] in english_words}"
   ]
  },
  {
   "cell_type": "markdown",
   "metadata": {},
   "source": [
    "## Geochronological time intervals\n",
    "\n",
    "First from http://www.stratigraphy.org/bak/geowhen/geolist.html\n",
    "retrieved 26 march 2018"
   ]
  },
  {
   "cell_type": "code",
   "execution_count": 168,
   "metadata": {},
   "outputs": [],
   "source": [
    "bad = {\"Early\", \"Late\", \"Lower\", \"Middle\", \"Upper\", \"III\", \"II\", \"VI\", \"V\", \"I\", \"(475\", \"Stages\", \"Displayed\"}\n",
    "\n",
    "df = pd.read_csv(\"data/geolist.txt\", sep = \"\\t\", header = None)\n",
    "k = [x.split(\" \")[3:5] for x in df[0]]\n",
    "stages = [[m for m in x if m not in bad] for x in k]\n",
    "stages = [[m for m in x if m] for x in stages if x]\n",
    "stages = {' '.join(x) for x in stages}"
   ]
  },
  {
   "cell_type": "code",
   "execution_count": 169,
   "metadata": {},
   "outputs": [],
   "source": [
    "with open(\"data/names_geological.txt\", \"r\") as myfile:\n",
    "    intervals = myfile.read().split(\"\\n\")\n",
    "if intervals[-1] == \"\":\n",
    "    intervals.pop()\n",
    "        \n",
    "intervals = set(intervals).union(stages)#.union(manual)"
   ]
  },
  {
   "cell_type": "code",
   "execution_count": 170,
   "metadata": {},
   "outputs": [],
   "source": [
    "bad_intervals = {\"Gulf\", \"Black\", \"Early\", \"Late\", \"Older\", \"Oldest\", \"Arnold\", \"Canadian\", \"Cryptic\", \"Glacial\", \"Mayan\", \"Namibian\", \"Younger\",\n",
    "                        \"Primary\", \"Primordial\", \"Mayan\", \"Gallic\", \"Namibian\", \"Romanian\", \"Secondary\", \n",
    "                 \"Sicilian\", \"Warsaw\", \"Atokan/Derryan\", \"Warendian/Lancefieldian\",\n",
    "                #'Donau-Günz', 'Würm', 'Günz-Mindel', 'Allerød', 'Bølling', 'Brüggenian',\n",
    "                # 'Biber-Donau', 'Pre-Illinoian', 'Nemakit-Daldynian', 'Mindel-Riss',\n",
    "                # 'Günz', 'Belvédère', 'Riss-Würm'\n",
    "                }\n",
    "\n",
    "good_intervals = [x for x in intervals if x not in bad_intervals]"
   ]
  },
  {
   "cell_type": "code",
   "execution_count": 183,
   "metadata": {},
   "outputs": [
    {
     "data": {
      "text/plain": [
       "1741"
      ]
     },
     "execution_count": 183,
     "metadata": {},
     "output_type": "execute_result"
    }
   ],
   "source": [
    "set1 = {x for x in good_intervals if x[-2:] == \"an\"}\n",
    "set1de = [x[:-2] + \"um\" for x in set1]\n",
    "\n",
    "set2 = [x.replace(\"gene\", \"zän\") for x in good_intervals if x not in set1]\n",
    "set3 = [x.replace(\"cene\", \"zän\") for x in good_intervals if x not in set1]\n",
    "set4 = [x.replace(\"ian\", \"ien\") for x in good_intervals]\n",
    "\n",
    "with open(\"output/german_names_10_10_2018.txt\", \"r\") as f:\n",
    "    germanwiki_intervals = f.read().split(\"\\n\")\n",
    "    \n",
    "german_intervals = set(germanwiki_intervals + set1de + set2 + set3 + set4)\n",
    "\n",
    "len(german_intervals)"
   ]
  },
  {
   "cell_type": "code",
   "execution_count": null,
   "metadata": {},
   "outputs": [],
   "source": []
  },
  {
   "cell_type": "code",
   "execution_count": 193,
   "metadata": {},
   "outputs": [],
   "source": [
    "# Strings (or tokens) of species epithets that are not to be added as regexpattern \n",
    "flags = {\"avicularia\", \"ta\", \"moe\", \"ab\", \"to\", \"mui\", \"lui\", \n",
    "              'sa', \"de\", \"a\", \"b\", \"gay\", \"genus\", \"comes\",\n",
    "              \"inferior\", \"biota\", \"bella\", \"sinus\", \"No\", \"rostrum\", \"work\",\n",
    "              \"major\", \"minor\", \"minimum\", \"fertile\", \"More\", \"No\", \"ordo\", \"index\", \"More\", \"more\",\n",
    "              \"Was\", \"st.\", \"strata\", \"foraminifera\", \"Was\", \"nuda\", \"canui\", \n",
    "              \"richteri\", \"delta\", \"gigas\", \"foramina\", \"fossula\", \"minima\", \"americana\", \"voigti\"}\n",
    "#flags = flags#.union(english_epithets)\n",
    "\n",
    "\n",
    "override = \"ORGANIZATION,PERSON,LOCATION,MISC,NUMBER,MONEY,PERCENT,DATE,TIME\""
   ]
  },
  {
   "cell_type": "code",
   "execution_count": 194,
   "metadata": {},
   "outputs": [
    {
     "data": {
      "text/plain": [
       "[True]"
      ]
     },
     "execution_count": 194,
     "metadata": {},
     "output_type": "execute_result"
    }
   ],
   "source": [
    "#[True for x in rules if \"Kreide\" in x]"
   ]
  },
  {
   "cell_type": "markdown",
   "metadata": {},
   "source": [
    "# Rules 2.0 - with tokensregex\n",
    "\n",
    "\n",
    "This entry is based on the TokenRegex engine, see\n",
    "\n",
    "https://nlp.stanford.edu/software/tokensregex.html\n",
    "\n",
    "```\n",
    "@techreport{tokensregex2014,\n",
    "  author    = {Chang, Angel X. and Manning, Christopher D.},\n",
    "  title  = {{TokensRegex}: Defining cascaded regular expressions over tokens},\n",
    "  number = {CSTR 2014-02},\n",
    "  institution = {Department of Computer Science, Stanford University},\n",
    "  year = {2014}\n",
    "}\n",
    "```"
   ]
  },
  {
   "cell_type": "code",
   "execution_count": 196,
   "metadata": {},
   "outputs": [],
   "source": [
    "genera2 = set()\n",
    "epithets2 = set()\n",
    "\n",
    "for species in taxa4:\n",
    "    k = species.split(\" \")\n",
    "    \n",
    "    if k[0] not in flags:\n",
    "        genera2.add(k[0])\n",
    "    \n",
    "    if len(k) > 1:\n",
    "        if k[1] not in flags:\n",
    "            epithets2.add(k[1])\n",
    "            \n",
    "rules = []\n",
    "\n",
    "rules.append(\"( [/{}/] [/cf.|aff./]{{0,1}} [/{}/]{{0,1}} [/sp./]{{0,1}} [/nov./]{{0,1}} )\\tTAXA\\t{}\\t2.0\".format('|'.join(genera2), \n",
    "                                                                                                   '|'.join(epithets2),\n",
    "                                                                                                  override))\n",
    "\n",
    "rules.append(\"( [{{ word:/[A-Z][.]/}}] [/cf.|aff./]{{0,1}} [/{}/] [/sp./]{{0,1}} [/nov./]{{0,1}} )\\tTAXA\\t{}\\t2.0\".format('|'.join(epithets2),\n",
    "                                                                                                     override))\n",
    "\n",
    "prefixes = {\"Late\", \"late\", \"Early\", \"early\", \"Middle\", \"middle\", \"upper\", \"Upper\", \"Lower\", \"lower\"}\n",
    "prefixes_de = {\"Oberes?\", \"oberes?\",\n",
    "             \"Niederes?\", \"nieders?\",\n",
    "             \"Spätes?\", \"spätes?\",\n",
    "             \"Frühes?\", \"frühes?\",\n",
    "             \"Mittlere?s?\",\"mittlere?s?\",\n",
    "             \"Mittel\", \"mittel\",\n",
    "             \"Unteres?\", \"unteres?\"\n",
    "            }\n",
    "\n",
    "\n",
    "rules.append(\"( [/{}/]{{0,1}} [/{}/] )\\tINTERVALNAME\\t{}\\t2.0\".format('|'.join(prefixes),\n",
    "                                                                       '|'.join(good_intervals),\n",
    "                                                                       override))\n",
    "\n",
    "rules.append(\"( [/{}/]{{0,1}} [/{}/] )\\tINTERVALNAME\\t{}\\t2.0\".format('|'.join(prefixes_de),\n",
    "                                                                       '|'.join(german_intervals),\n",
    "                                                                       override))\n",
    "\n",
    "# recent, the recent\n",
    "rules.append(\"( [/The|the/]{{0,1}} [/Recent/] )\\tINTERVALNAME\\t{}\\t2.0\".format(override))\n",
    "\n",
    "strat_flags = [\"Basalt\",\"basalt\",\"Quartzite\",\"quartzite\",\"Rhyolite\",\"rhyolite\",\"Monzogranite\",\"monzogranite\",\n",
    "               \"Gabbro\", \"gabbro\", \"Slate\", \"Breccia\", \"Ignimbrite\", \"Volcanic\", \"Dolerite\", \"Dacite\", \"Latite\",\n",
    "               \"Phyllite\", \"Silt\", \"Marl\", \"Syenite\", \"Chalk\", \"Marble\", \"Amphibolite\", \"Greenstone\",\n",
    "               \"Orthogneiss\", \"Tillite\", \"Leucogranite\", \"Trachyte\", \"Argillite\", \"Arkose\", \"Greensand\",\n",
    "               \"Serpentinite\", \"Agglomerate\", \"Pelite\", \"Rhyodacite\", \"Greywacke\", \"Claystone\", \"Lens\", \"Ash\",\n",
    "               \"Oolite\", \"Anhydrite\", \"Graywacke\", \"Alluvium\", \"Diabase\", \"Trondhjemite\", \"Metagabbro\", \"Anorthosite\",\n",
    "               \"Granulite\", \"Metabasalt\", \"Norite\", \"Evaporite\", \"Gypsum\", \"Syenogranite\", \"Migmatite\", \"Ironstone\",\n",
    "               \"Charnockite\", \"Peat\", \"Felsite\", \"Coquina\", \"Halite\",\n",
    "               \"Siltstone\",\"siltstone\",\"Andesite\",\"andesite\",\"Gneiss\",\"gneiss\",\"Dolomite\",\"dolomite\",\"Dolostone\",\"dolostone\",\n",
    "               \"Limestone\",\"limestone\",\"Sandstone\",\"sandstone\",\"Shale\",\"shale\",\"Granite\",\"granite\",\"Granodiorite\",\"granodiorite\",\n",
    "               \"Conglomerate\",\"chert\",\"Chert\",\"Group\",\"Formation\",\"formation\",\"Member\",\"Supergroup\",\"supergroup\",\"Bed\",\"Subgroup\",\n",
    "               \"subgroup\",\"Fm\",\"Mbr\",\"Gp\",\"SGp\"]\n",
    "\n",
    "\n",
    "stratigraphy = \"( [{{ word:/[A-Z][a-z]+/ }}]+? /{}/ )\".format('|'.join(strat_flags))\n",
    "\n",
    "strat_rule = \"\\t\".join([stratigraphy, \"STRAT\", override, \"2.0\"])\n",
    "\n",
    "rules.append(strat_rule)"
   ]
  },
  {
   "cell_type": "code",
   "execution_count": null,
   "metadata": {},
   "outputs": [],
   "source": []
  },
  {
   "cell_type": "code",
   "execution_count": null,
   "metadata": {},
   "outputs": [],
   "source": []
  },
  {
   "cell_type": "code",
   "execution_count": null,
   "metadata": {},
   "outputs": [],
   "source": []
  },
  {
   "cell_type": "code",
   "execution_count": null,
   "metadata": {},
   "outputs": [],
   "source": []
  },
  {
   "cell_type": "markdown",
   "metadata": {},
   "source": [
    "# Save it"
   ]
  },
  {
   "cell_type": "code",
   "execution_count": 197,
   "metadata": {},
   "outputs": [],
   "source": [
    "## Save RegexNER rules to file\n",
    "#with open('output/regexner_rules_15sept.txt', mode='w', encoding='utf-8') as myfile:\n",
    "with open('/uio/kant/nhm-sfs-u2/bjorntko/natural_language_processing/regexner_rules_9oct.txt', mode='w', encoding='utf-8') as myfile:\n",
    "    myfile.write('\\n'.join(line for line in rules))"
   ]
  },
  {
   "cell_type": "markdown",
   "metadata": {},
   "source": [
    "## Some summary"
   ]
  },
  {
   "cell_type": "markdown",
   "metadata": {},
   "source": [
    "By inspecting the file \"ner-training/regexner_rules.txt\" we can inspect all of the regex expressions, including their target labels and label priorities (1.0 or 2.0). Here, \"TAXA\" is used for taxa, and \"INTERVALNAME\" is used for geological time intervals. We can inspect the first entries:"
   ]
  },
  {
   "cell_type": "code",
   "execution_count": 188,
   "metadata": {},
   "outputs": [
    {
     "name": "stdout",
     "output_type": "stream",
     "text": [
      "\n",
      "     7    103 335733 /uio/kant/nhm-sfs-u2/bjorntko/natural_language_processing/regexner_rules_9oct.txt\n"
     ]
    }
   ],
   "source": [
    "#!head output/regexner_rules_15sept.txt\n",
    "!echo \"\"\n",
    "!wc /uio/kant/nhm-sfs-u2/bjorntko/natural_language_processing/regexner_rules_9oct.txt"
   ]
  },
  {
   "cell_type": "code",
   "execution_count": 68,
   "metadata": {},
   "outputs": [
    {
     "data": {
      "text/plain": [
       "'subgroup|Fm|Mbr|Gp|SGp/ )\\tSTRAT\\tORGANIZATION,PERSON,LOCATION,MISC,NUMBER,MONEY,PERCENT,DATE,TIME\\t2.0'"
      ]
     },
     "execution_count": 68,
     "metadata": {},
     "output_type": "execute_result"
    }
   ],
   "source": [
    "'\\n'.join(line for line in rules)[-100:]"
   ]
  },
  {
   "cell_type": "code",
   "execution_count": null,
   "metadata": {},
   "outputs": [],
   "source": []
  },
  {
   "cell_type": "code",
   "execution_count": null,
   "metadata": {},
   "outputs": [],
   "source": []
  },
  {
   "cell_type": "code",
   "execution_count": null,
   "metadata": {},
   "outputs": [],
   "source": []
  },
  {
   "cell_type": "code",
   "execution_count": null,
   "metadata": {},
   "outputs": [],
   "source": []
  }
 ],
 "metadata": {
  "kernelspec": {
   "display_name": "Python 3",
   "language": "python",
   "name": "python3"
  },
  "language_info": {
   "codemirror_mode": {
    "name": "ipython",
    "version": 3
   },
   "file_extension": ".py",
   "mimetype": "text/x-python",
   "name": "python",
   "nbconvert_exporter": "python",
   "pygments_lexer": "ipython3",
   "version": "3.6.6"
  }
 },
 "nbformat": 4,
 "nbformat_minor": 2
}
