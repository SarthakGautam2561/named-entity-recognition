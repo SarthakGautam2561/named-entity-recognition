{
 "cells": [
  {
   "cell_type": "code",
   "execution_count": 28,
   "metadata": {},
   "outputs": [],
   "source": [
    "import requests\n",
    "import pandas as pd\n",
    "import re\n",
    "#import enchant\n",
    "import numpy as np\n",
    "from nltk.corpus import words"
   ]
  },
  {
   "cell_type": "code",
   "execution_count": 3,
   "metadata": {},
   "outputs": [],
   "source": [
    "# This \"interval\" \"definition\" is terrible. It even includes species,that, supposedly are geological time intervals\n",
    "#r = requests.get(\"https://macrostrat.org/api/defs/intervals?all\").json()\n",
    "#time_intervals = [x[\"name\"].replace(\"\\t\", \"\") for x in r[\"success\"][\"data\"]]\n",
    "r = requests.get(\"https://macrostrat.org/api/defs/strat_names?all\").json()\n",
    "#r = requests.get(\"https://macrostrat.org/api/defs/strat_names?rank=Fm\").json()\n"
   ]
  },
  {
   "cell_type": "code",
   "execution_count": 4,
   "metadata": {},
   "outputs": [],
   "source": [
    "pbdb_stratigraphic_names = requests.get(\"https://paleobiodb.org/data1.2/occs/strata.json?datainfo&rowcount&interval=Phanerozoic&rank=Formation\").json()"
   ]
  },
  {
   "cell_type": "code",
   "execution_count": null,
   "metadata": {},
   "outputs": [],
   "source": []
  },
  {
   "cell_type": "code",
   "execution_count": 5,
   "metadata": {},
   "outputs": [
    {
     "name": "stdout",
     "output_type": "stream",
     "text": [
      "45619\n"
     ]
    }
   ],
   "source": [
    "strat_names = [x[\"strat_name_long\"] for x in r[\"success\"][\"data\"]]\n",
    "print(len(r[\"success\"][\"data\"]))\n",
    "#[x[\"strat_name_long\"] for x in r[\"success\"][\"data\"][15000:15050]]\n",
    "#pbdb_stratigraphic_names[\"records\"][1000]\n",
    "#strat_names_pbdb = "
   ]
  },
  {
   "cell_type": "code",
   "execution_count": 10,
   "metadata": {},
   "outputs": [],
   "source": [
    "with open(\"data/species_names_bryozoa.txt\", \"r\") as myfile:\n",
    "\ttaxa = myfile.read().split(\"\\n\")\n",
    "\n",
    "taxa2 = pd.read_csv(\"data/CoL_bryozoa.csv\")\n",
    "taxa2 = [' '.join(x.split('  ')[0:2]) for x in list(taxa2[\"Scientific name\"])]\n",
    "taxa3 = taxa + taxa2\n",
    "\n",
    "## Problem: some species are written in a bad format, e.g.\n",
    "## \n",
    "## Chaperiopsis (Clipeochaperia) frontalis\n",
    "##\n",
    "# ambiguous = [x for x in taxa3 if \"(\" in x]\n",
    "\n"
   ]
  },
  {
   "cell_type": "code",
   "execution_count": 17,
   "metadata": {},
   "outputs": [
    {
     "data": {
      "text/plain": [
       "['Fenestella strata']"
      ]
     },
     "execution_count": 17,
     "metadata": {},
     "output_type": "execute_result"
    }
   ],
   "source": [
    "philbock_taxa = pd.read_csv(\"data/philbock_species.csv\", sep = \"\\t\", dtype=str)\n",
    "\n",
    "taxa = [x.capitalize() for x in philbock_taxa.Name.dropna()]\n",
    "taxa = [x for x in taxa if \"subsequent\" not in x]\n",
    "\n",
    "def is_ascii(s):\n",
    "    return all(ord(c) < 128 for c in s)\n",
    "\n",
    "#[x for x in philbocktaxa2 if \")\" in x]\n",
    "#[x for x in philbocktaxa2 if \"?\" in x]\n",
    "#[x for x in philbocktaxa2 if not is_ascii(x)]\n",
    "#[x for x in philbocktaxa2 if len(x.split(' ')) > 2][2000:]\n",
    "#[x.replace(\" [sic]\", \"\") for x in taxa]\n",
    "#[x for x in taxa if \"bouei minute\" in x]\n",
    "\n",
    "#re.search(\"No subsequent\", taxa)\n",
    "[x for x in taxa if \" strata\" in x]\n"
   ]
  },
  {
   "cell_type": "code",
   "execution_count": 18,
   "metadata": {},
   "outputs": [],
   "source": [
    "def cleanup(genera):\n",
    "    \"\"\"\n",
    "    Function to remove any of the matches in \"flags2\" from the string input\n",
    "    \"\"\"\n",
    "    flags2 = {\"(?)\", \"*\", \" [sic]\", \"?\", \" cf.\", \" n. sp.\", \" 1\", \n",
    "              \" l.\", \" s.\", \" j.\", \n",
    "              \" sp.\", \" aff.\", \" ex gr.\", \" [1938]\", \n",
    "              \"\\xa0\", \"\\t\", \" [sic, read costulatus]\", \" [diastopora]\", '&', \n",
    "              ' f.', ' l.', ' c.', ' s.',' ex.', 'a.', 'b.', 'grp.',\n",
    "              ' genus', ' indet.', ' egenus'}\n",
    "    rep = {x: \"\" for x in flags2}\n",
    "    rep = dict((re.escape(k), v) for k, v in rep.items())\n",
    "\n",
    "    pattern = re.compile(\"|\".join(rep.keys()))\n",
    "    res = map(lambda genus: pattern.sub(lambda m: rep[re.escape(m.group(0))], genus), (x for x in genera if len(x) > 1))\n",
    "    return(res)\n",
    "\n",
    "philbocktaxa = []\n",
    "\n",
    "taxa = cleanup(taxa)\n",
    "\n",
    "for taxon in taxa:\n",
    "    if \"sp.\" in taxon:\n",
    "        taxon = taxon[:pat.search(taxon).end()]\n",
    "    \n",
    "    split_taxon = taxon.split()   \n",
    "    \n",
    "    pindices = [i for i, p in enumerate(taxon) if p in \"()\"]\n",
    "\n",
    "    if len(pindices) > 1:\n",
    "        if \" \" in taxon[pindices[0]:pindices[1]+1]:\n",
    "            taxon = taxon[:pindices[0]] + taxon[pindices[1]+2:]\n",
    "            \n",
    "            taxon = \" \".join(taxon.split()) ## Normalize spacing\n",
    "            philbocktaxa.append(taxon)\n",
    "            \n",
    "        else:\n",
    "            first = taxon.replace(taxon[pindices[0]:pindices[1]+2], \"\")\n",
    "            second = taxon[pindices[0]+1:].replace(\")\", \"\")\n",
    "        \n",
    "            philbocktaxa.append(first.capitalize())\n",
    "            philbocktaxa.append(second.capitalize())  \n",
    "        \n",
    "    \n",
    "    else:\n",
    "        taxon = \" \".join(taxon.split()) ## Normalize spacing\n",
    "        philbocktaxa.append(taxon)\n",
    "        \n",
    "def nonascii_fix(x):\n",
    "    x = x.replace(\"Macropora ﬁlifera\", \"Macropora filifera\")\n",
    "    x = x.replace(\"Ralﬁna originalis\", \"Ralfina originalis\")\n",
    "    x = x.replace(\"‘hastingsia’ whitteni\", \"hastingsia whitteni\")\n",
    "    return(x.replace(\"Biflustra’ lamellosa\", \"Biflustra lamellosa\"))\n",
    "\n",
    "philbocktaxa2 = [nonascii_fix(x).capitalize() for x in philbocktaxa]\n",
    "        \n",
    "\n",
    "philbocktaxa3 = []\n",
    "\n",
    "for x in philbocktaxa2:\n",
    "    philbocktaxa3.append(x)\n",
    "    \n",
    "    k = x.split()\n",
    "    if len(k) > 2:\n",
    "        philbocktaxa3.append(' '.join(k[0:2]))\n",
    "        \n",
    "        \n",
    "\n",
    "taxa4 = set(x for x in set(taxa3 + philbocktaxa3) if x not in [\"Sic\", \"Delete\", \"Ignore\", \"More work\", \"Zzcomment\"])\n",
    "\n",
    "#sorted([x.split()[-1] for x in philbocktaxa3], key = len)[0:30]\n",
    "\n",
    "#print(philbocktaxa3[0:10])\n",
    "\n",
    "\n",
    "k = sorted([x.split()[-1] for x in taxa4 if \" \" in x], key = len)[0:1000]"
   ]
  },
  {
   "cell_type": "code",
   "execution_count": 30,
   "metadata": {},
   "outputs": [],
   "source": [
    "\n",
    "## Dictionary for english (US) words\n",
    "#d = enchant.Dict(\"en_US\")\n",
    "\n",
    "#nltk.download(\"words\")\n",
    "english_words = set(words.words())"
   ]
  },
  {
   "cell_type": "code",
   "execution_count": 38,
   "metadata": {},
   "outputs": [
    {
     "name": "stdout",
     "output_type": "stream",
     "text": [
      "Number of genera: 3121\n",
      "{'Plumatella', 'Orbitolites', 'Paulina', 'Gargantua', 'Galeopsis', 'Lunularia', 'Archimedes', 'Boreas', 'Tubularia', 'Avicularia', 'Lunulites', 'Dictyonema', 'Porella', 'Corallina', 'Favosites', 'Campanularia', 'Heliolites', 'Alcyonium', 'Adeona', 'Stromatopora', 'Tubipora', 'Arachnoidea', 'Sertularia', 'Hydra', 'Oculina', 'Vesicularia', 'Crepis', 'Tubulipora', 'Chaetites', 'Millepora', 'Monticulipora', 'Membranipora', 'Paludicella', 'Stenophragma', 'Lichenopora', 'Cellepora', 'Lepralia', 'Diplotaxis', 'Alveolites', 'Electra', 'Madrepora', 'Fedora', 'Retepora', 'Cristatella', 'Mastigophora', 'Isis', 'Fungia', 'Fistularia', 'Emma', 'Flustra', 'Chaetetes', 'Ulva', 'Oncidium', 'Acropora', 'Hydractinia', 'Salicornia', 'Gorgonia'}\n"
     ]
    }
   ],
   "source": [
    "genera = {x.split(\" \")[0] for x in taxa4}\n",
    "print(\"Number of genera:\", len(genera))\n",
    "\n",
    "english_genera = {x for x in genera if x in english_words}\n",
    "\n",
    "print(english_genera)\n"
   ]
  },
  {
   "cell_type": "code",
   "execution_count": 39,
   "metadata": {},
   "outputs": [
    {
     "name": "stdout",
     "output_type": "stream",
     "text": [
      "Number of genera, minus english words: 3115\n"
     ]
    }
   ],
   "source": [
    "# Pick some of the above genera, remove them\n",
    "bad_genera = {\"Emma\", \"Hydra\", \"Isis\", \"Ulva\", \"Avicularia\", \"Boreas\"}\n",
    "\n",
    "genera_minus_english = genera.difference(bad_genera)\n",
    "print(\"Number of genera, minus english words:\", len(genera_minus_english))\n",
    "\n",
    "with open(\"data/genera.csv\", \"w\") as f:\n",
    "    f.write(\"\\n\".join(genera_minus_english))"
   ]
  },
  {
   "cell_type": "code",
   "execution_count": 40,
   "metadata": {},
   "outputs": [],
   "source": [
    "## If the epithet is in the english dictionary, add to set\n",
    "english_epithets = {x.split()[-1] for x in taxa4 if x.split()[-1] in english_words}\n",
    "\n",
    "#{1,2,5}.union({\"a\"}) ## join two sets\n",
    "\n",
    "#{x for x in intervals if x in english_words}\n"
   ]
  },
  {
   "cell_type": "markdown",
   "metadata": {},
   "source": [
    "## Geochronological time intervals\n",
    "\n",
    "First from http://www.stratigraphy.org/bak/geowhen/geolist.html\n",
    "retrieved 26 march 2018"
   ]
  },
  {
   "cell_type": "code",
   "execution_count": 69,
   "metadata": {},
   "outputs": [
    {
     "data": {
      "text/plain": [
       "45619"
      ]
     },
     "execution_count": 69,
     "metadata": {},
     "output_type": "execute_result"
    }
   ],
   "source": []
  },
  {
   "cell_type": "code",
   "execution_count": 44,
   "metadata": {},
   "outputs": [],
   "source": [
    "bad = {\"Early\", \"Late\", \"Lower\", \"Middle\", \"Upper\", \"III\", \"II\", \"VI\", \"V\", \"I\", \"(475\", \"Stages\", \"Displayed\"}\n",
    "\n",
    "df = pd.read_csv(\"data/geolist.txt\", sep = \"\\t\", header = None)\n",
    "k = [x.split(\" \")[3:5] for x in df[0]]\n",
    "stages = [[m for m in x if m not in bad] for x in k]\n",
    "stages = [[m for m in x if m] for x in stages if x]\n",
    "stages = {' '.join(x) for x in stages}\n",
    "\n",
    "#{x for x in stages if d.check(x)}\n"
   ]
  },
  {
   "cell_type": "code",
   "execution_count": 70,
   "metadata": {},
   "outputs": [],
   "source": [
    "with open(\"data/names_geological.txt\", \"r\") as myfile:\n",
    "    intervals = myfile.read().split(\"\\n\")\n",
    "if intervals[-1] == \"\":\n",
    "    intervals.pop()\n",
    "\n",
    "intervals = set(intervals).union(stages)\n",
    "rules = []\n",
    "\n",
    "# Strings (or tokens) of species epithets that are not to be added as regexpattern \n",
    "flags_pink = {\"avicularia\", \"ta\", \"moe\", \"ab\", \"to\", \"mui\", \"lui\", \n",
    "              'sa', \"de\", \"a\", \"b\", \"gay\", \"genus\", \"comes\",\n",
    "              \"inferior\", \"biota\", \"bella\", \"sinus\", \"No\", \"rostrum\", \"work\",\n",
    "              \"major\", \"minor\", \"minimum\", \"fertile\", \"More\", \"No\", \"ordo\", \"index\", \"More\", \"more\",\n",
    "              \"Was\", \"st.\", \"strata\", \"foraminifera\", \"Was\", \"nuda\", \"canui\", \n",
    "              \"richteri\", \"delta\", \"gigas\", \"foramina\", \"fossula\", \"minima\", \"americana\", \"voigti\"}\n",
    "flags = flags_pink.union(english_epithets)\n",
    "\n",
    "\n",
    "override = \"ORGANIZATION,PERSON,LOCATION,MISC,NUMBER,MONEY,PERCENT,DATE,TIME\"\n",
    "for species in taxa4:\n",
    "    k = species.split(\" \")\n",
    "\n",
    "    \n",
    "    if len(k) > 1:\n",
    "        if k[1] not in flags_pink and k[-1] not in flags:\n",
    "            if k[1] == \"to\":\n",
    "                print(\"ASDHASD\")\n",
    "            \n",
    "            rules.append(''.join((k[1], \"\\t\", \"TAXA\", \"\\t\", override, \"\\t\", \"1.0\")))\n",
    "            \n",
    "            rules.append(''.join((k[0], \"\\t\", \"TAXA\", \"\\t\", override, \"\\t\", \"1.0\")))\n",
    "            rules.append(''.join((k[0], \" aff.\",\"\\t\", \"TAXA\", \"\\t\", override, \"\\t\", \"2.0\")))\n",
    "            rules.append(''.join((k[0], \" sp.\",\"\\t\", \"TAXA\", \"\\t\", override, \"\\t\", \"2.0\")))#rules.append(\"([^\\s]+) sp\\tTAXA\") \n",
    "\n",
    "for species in taxa4:\n",
    "    k = species.split()\n",
    "    \n",
    "    if len(k) > 1:\n",
    "        abbrev_rule = [\"[A-Z][.] \",k[1],\"\\t\", \"TAXA\", \"\\t\", override, \"\\t\", \"3.0\"]\n",
    "        rules.append(''.join(abbrev_rule))\n",
    "        \n",
    "        abbrev_rule.insert(1, \"cf. \")\n",
    "        rules.append(''.join(abbrev_rule))\n",
    "        \n",
    "        abbrev_rule[1] = \"aff. \"\n",
    "        rules.append(''.join(abbrev_rule))\n",
    "\n",
    "\n",
    "for species in taxa4:\n",
    "    k = species.split()\n",
    "\n",
    "    if len(k) > 1:\n",
    "        k.insert(1, \"cf.\")\n",
    "        rules.append(''.join((' '.join(k), \"\\t\", \"TAXA\", \"\\t\", override, \"\\t\", \"3.0\")))\n",
    "\n",
    "        k[1] = \"aff.\"\n",
    "        rules.append(''.join((' '.join(k), \"\\t\", \"TAXA\", \"\\t\", override, \"\\t\", \"3.0\")))\n",
    "\n",
    "        rules.append(''.join((species,\"\\t\", \"TAXA\", \"\\t\", override, \"\\t\", \"3.0\")))\n",
    "\n",
    "    ## Following regex could replace all of the above, except mentions of lone genera (no epithets)\n",
    "    ## However, StanfordNLP RegexNER does not like it, gives error when annotating named entities.\n",
    "    ##\n",
    "    ## rules.append(''.join([\"([A-Z][.] |\", k[0],\" )?(aff |cf |sp |sp nov )?\", k[1], \"\\t\", \"TAXA\", \"\\t\", \"2.0\"]))\n",
    "\n",
    "bad_intervals = {\"Gulf\", \"Black\", \"Early\", \"Late\", \"Older\", \"Oldest\", \"Arnold\", \"Canadian\", \"Cryptic\", \"Glacial\", \"Mayan\", \"Namibian\", \"Younger\",\n",
    "                        \"Primary\", \"Primordial\", \"Mayan\", \"Gallic\", \"Namibian\", \"Romanian\", \"Secondary\", \"Sicilian\", \"Warsaw\"}\n",
    "for interval in {x for x in intervals if x not in bad_intervals}:\n",
    "    if interval == \"Arnold\":\n",
    "        print(\"asd\")\n",
    "        \n",
    "    for prefix in {\"Late\", \"late\", \"Early\", \"early\", \"Middle\", \"middle\", \"upper\", \"Upper\", \"Lower\", \"lower\"}:\n",
    "        rules.append(''.join((prefix, \" \", interval,\"\\t\", \"INTERVALNAME\", \"\\t\", override, \"\\t\", \"2.0\")))\n",
    "        rules.append(''.join((interval,\"\\t\", \"INTERVALNAME\", \"\\t\", override, \"\\t\", \"1.0\")))\n",
    "    \n",
    "for strat_name in strat_names:\n",
    "    rules.append(''.join((strat_name.replace(\"+ \", \"\"),\"\\t\", \"STRAT\", \"\\t\", override, \"\\t\", \"1.0\")))\n",
    "\n",
    "rules.append(''.join((\"Recent\", \"\\t\", \"INTERVALNAME\", \"\\t\", override, \"\\t\", \"1.0\")))\n",
    "rules.append(''.join((\"The Recent\", \"\\t\", \"INTERVALNAME\", \"\\t\", override, \"\\t\", \"2.0\")))\n",
    "\n"
   ]
  },
  {
   "cell_type": "code",
   "execution_count": 71,
   "metadata": {},
   "outputs": [
    {
     "data": {
      "text/plain": [
       "['Arnold Member\\tSTRAT\\tORGANIZATION,PERSON,LOCATION,MISC,NUMBER,MONEY,PERCENT,DATE,TIME\\t1.0',\n",
       " 'Arnold River Formation\\tSTRAT\\tORGANIZATION,PERSON,LOCATION,MISC,NUMBER,MONEY,PERCENT,DATE,TIME\\t1.0',\n",
       " 'Arnold River Formation\\tSTRAT\\tORGANIZATION,PERSON,LOCATION,MISC,NUMBER,MONEY,PERCENT,DATE,TIME\\t1.0',\n",
       " 'Arnold Sandstone Member\\tSTRAT\\tORGANIZATION,PERSON,LOCATION,MISC,NUMBER,MONEY,PERCENT,DATE,TIME\\t1.0']"
      ]
     },
     "execution_count": 71,
     "metadata": {},
     "output_type": "execute_result"
    }
   ],
   "source": [
    "[x for x in rules if \"Arnold\" in x]"
   ]
  },
  {
   "cell_type": "code",
   "execution_count": null,
   "metadata": {},
   "outputs": [],
   "source": []
  },
  {
   "cell_type": "markdown",
   "metadata": {},
   "source": []
  },
  {
   "cell_type": "markdown",
   "metadata": {},
   "source": [
    "# Add formation rules\n",
    "\n",
    "This line is a TokenRegex, see\n",
    "\n",
    "https://nlp.stanford.edu/software/tokensregex.html\n",
    "\n",
    "```\n",
    "@techreport{tokensregex2014,\n",
    "  author    = {Chang, Angel X. and Manning, Christopher D.},\n",
    "  title  = {{TokensRegex}: Defining cascaded regular expressions over tokens},\n",
    "  number = {CSTR 2014-02},\n",
    "  institution = {Department of Computer Science, Stanford University},\n",
    "  year = {2014}\n",
    "}\n",
    "```"
   ]
  },
  {
   "cell_type": "code",
   "execution_count": 72,
   "metadata": {},
   "outputs": [],
   "source": [
    "stratigraphy = \"( [{ word:/[A-Z][a-z]+/ }]+? /Dolomite|dolomite|Dolostone|dolostone|Limestone|limestone|Sandstone|sandstone|Shale|shale|Conglomerate|chert|Chert|Group|Formation|formation|Member|Supergroup|supergroup|Bed|Subgroup|subgroup|Fm|Mbr|Gp|SGp/ )\"\n",
    "\n",
    "strat_rule = \"\\t\".join([stratigraphy, \"STRAT\", override, \"3.0\"])\n",
    "rules.append(strat_rule)\n"
   ]
  },
  {
   "cell_type": "markdown",
   "metadata": {},
   "source": [
    "# Save it"
   ]
  },
  {
   "cell_type": "code",
   "execution_count": 67,
   "metadata": {},
   "outputs": [],
   "source": [
    "## Save RegexNER rules to file\n",
    "with open('output/regexner_rules.txt', mode='w', encoding='utf-8') as myfile:\n",
    "    myfile.write('\\n'.join(line for line in rules))"
   ]
  },
  {
   "cell_type": "markdown",
   "metadata": {},
   "source": [
    "## Some summary"
   ]
  },
  {
   "cell_type": "markdown",
   "metadata": {},
   "source": [
    "By inspecting the file \"ner-training/regexner_rules.txt\" we can inspect all of the regex expressions, including their target labels and label priorities (1.0 or 2.0). Here, \"TAXA\" is used for taxa, and \"INTERVALNAME\" is used for geological time intervals. We can inspect the first entries:"
   ]
  },
  {
   "cell_type": "code",
   "execution_count": 66,
   "metadata": {},
   "outputs": [
    {
     "name": "stdout",
     "output_type": "stream",
     "text": [
      "poissonii\tTAXA\tORGANIZATION,PERSON,LOCATION,MISC,NUMBER,MONEY,PERCENT,DATE,TIME\t1.0\n",
      "Crepidacantha\tTAXA\tORGANIZATION,PERSON,LOCATION,MISC,NUMBER,MONEY,PERCENT,DATE,TIME\t1.0\n",
      "Crepidacantha aff.\tTAXA\tORGANIZATION,PERSON,LOCATION,MISC,NUMBER,MONEY,PERCENT,DATE,TIME\t2.0\n",
      "Crepidacantha sp.\tTAXA\tORGANIZATION,PERSON,LOCATION,MISC,NUMBER,MONEY,PERCENT,DATE,TIME\t2.0\n",
      "nereidis\tTAXA\tORGANIZATION,PERSON,LOCATION,MISC,NUMBER,MONEY,PERCENT,DATE,TIME\t1.0\n",
      "Pinnatopora\tTAXA\tORGANIZATION,PERSON,LOCATION,MISC,NUMBER,MONEY,PERCENT,DATE,TIME\t1.0\n",
      "Pinnatopora aff.\tTAXA\tORGANIZATION,PERSON,LOCATION,MISC,NUMBER,MONEY,PERCENT,DATE,TIME\t2.0\n",
      "Pinnatopora sp.\tTAXA\tORGANIZATION,PERSON,LOCATION,MISC,NUMBER,MONEY,PERCENT,DATE,TIME\t2.0\n",
      "pertusa\tTAXA\tORGANIZATION,PERSON,LOCATION,MISC,NUMBER,MONEY,PERCENT,DATE,TIME\t1.0\n",
      "Strebloplax\tTAXA\tORGANIZATION,PERSON,LOCATION,MISC,NUMBER,MONEY,PERCENT,DATE,TIME\t1.0\n",
      "\"\"\n",
      "  496925  2609239 47310468 output/regexner_rules.txt\n"
     ]
    }
   ],
   "source": [
    "!head output/regexner_rules.txt\n",
    "!echo \"\"\n",
    "!wc output/regexner_rules.txt"
   ]
  },
  {
   "cell_type": "code",
   "execution_count": null,
   "metadata": {},
   "outputs": [],
   "source": []
  },
  {
   "cell_type": "code",
   "execution_count": null,
   "metadata": {},
   "outputs": [],
   "source": []
  },
  {
   "cell_type": "code",
   "execution_count": null,
   "metadata": {},
   "outputs": [],
   "source": []
  },
  {
   "cell_type": "code",
   "execution_count": null,
   "metadata": {},
   "outputs": [],
   "source": []
  },
  {
   "cell_type": "code",
   "execution_count": null,
   "metadata": {},
   "outputs": [],
   "source": []
  }
 ],
 "metadata": {
  "kernelspec": {
   "display_name": "Python 3",
   "language": "python",
   "name": "python3"
  },
  "language_info": {
   "codemirror_mode": {
    "name": "ipython",
    "version": 3
   },
   "file_extension": ".py",
   "mimetype": "text/x-python",
   "name": "python",
   "nbconvert_exporter": "python",
   "pygments_lexer": "ipython3",
   "version": "3.6.5"
  }
 },
 "nbformat": 4,
 "nbformat_minor": 2
}
